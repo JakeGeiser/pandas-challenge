{
 "cells": [
  {
   "cell_type": "markdown",
   "metadata": {},
   "source": [
    "### Note\n",
    "* Instructions have been included for each segment. You do not have to follow them exactly, but they are included to help you think through the steps."
   ]
  },
  {
   "cell_type": "code",
   "execution_count": 1,
   "metadata": {},
   "outputs": [],
   "source": [
    "# Dependencies and Setup\n",
    "import pandas as pd\n",
    "import numpy as np\n",
    "\n",
    "# File to Load (Remember to Change These)\n",
    "file_to_load = \"Resources/purchase_data.csv\"\n",
    "\n",
    "# Read Purchasing File and store into Pandas data frame\n",
    "purchase_data = pd.read_csv(file_to_load)"
   ]
  },
  {
   "cell_type": "markdown",
   "metadata": {},
   "source": [
    "## Player Count"
   ]
  },
  {
   "cell_type": "markdown",
   "metadata": {},
   "source": [
    "* Display the total number of players\n"
   ]
  },
  {
   "cell_type": "code",
   "execution_count": 12,
   "metadata": {},
   "outputs": [],
   "source": [
    "# Get dataframe from csv data\n",
    "purchase_df = pd.DataFrame(purchase_data)\n",
    "# purchase_df.head()"
   ]
  },
  {
   "cell_type": "code",
   "execution_count": 3,
   "metadata": {},
   "outputs": [
    {
     "data": {
      "text/html": [
       "<div>\n",
       "<style scoped>\n",
       "    .dataframe tbody tr th:only-of-type {\n",
       "        vertical-align: middle;\n",
       "    }\n",
       "\n",
       "    .dataframe tbody tr th {\n",
       "        vertical-align: top;\n",
       "    }\n",
       "\n",
       "    .dataframe thead th {\n",
       "        text-align: right;\n",
       "    }\n",
       "</style>\n",
       "<table border=\"1\" class=\"dataframe\">\n",
       "  <thead>\n",
       "    <tr style=\"text-align: right;\">\n",
       "      <th></th>\n",
       "      <th>Total Players</th>\n",
       "    </tr>\n",
       "  </thead>\n",
       "  <tbody>\n",
       "    <tr>\n",
       "      <th>0</th>\n",
       "      <td>576</td>\n",
       "    </tr>\n",
       "  </tbody>\n",
       "</table>\n",
       "</div>"
      ],
      "text/plain": [
       "   Total Players\n",
       "0            576"
      ]
     },
     "execution_count": 3,
     "metadata": {},
     "output_type": "execute_result"
    }
   ],
   "source": [
    "# Find and count all unique players and store in dictionary\n",
    "all_players = purchase_df['SN'].unique()\n",
    "player_d = {'Total Players':len(all_players)}\n",
    "\n",
    "# Print dictionary as dataframe\n",
    "pd.DataFrame([player_d])"
   ]
  },
  {
   "cell_type": "markdown",
   "metadata": {},
   "source": [
    "## Purchasing Analysis (Total)"
   ]
  },
  {
   "cell_type": "markdown",
   "metadata": {},
   "source": [
    "* Run basic calculations to obtain number of unique items, average price, etc.\n",
    "\n",
    "\n",
    "* Create a summary data frame to hold the results\n",
    "\n",
    "\n",
    "* Optional: give the displayed data cleaner formatting\n",
    "\n",
    "\n",
    "* Display the summary data frame\n"
   ]
  },
  {
   "cell_type": "code",
   "execution_count": 4,
   "metadata": {},
   "outputs": [
    {
     "data": {
      "text/html": [
       "<div>\n",
       "<style scoped>\n",
       "    .dataframe tbody tr th:only-of-type {\n",
       "        vertical-align: middle;\n",
       "    }\n",
       "\n",
       "    .dataframe tbody tr th {\n",
       "        vertical-align: top;\n",
       "    }\n",
       "\n",
       "    .dataframe thead th {\n",
       "        text-align: right;\n",
       "    }\n",
       "</style>\n",
       "<table border=\"1\" class=\"dataframe\">\n",
       "  <thead>\n",
       "    <tr style=\"text-align: right;\">\n",
       "      <th></th>\n",
       "      <th>Number of Unique Items</th>\n",
       "      <th>Average Price</th>\n",
       "      <th>Number of Purchases</th>\n",
       "      <th>Total Revenue</th>\n",
       "    </tr>\n",
       "  </thead>\n",
       "  <tbody>\n",
       "    <tr>\n",
       "      <th>0</th>\n",
       "      <td>179</td>\n",
       "      <td>$3.05</td>\n",
       "      <td>780</td>\n",
       "      <td>$2379.77</td>\n",
       "    </tr>\n",
       "  </tbody>\n",
       "</table>\n",
       "</div>"
      ],
      "text/plain": [
       "   Number of Unique Items Average Price  Number of Purchases Total Revenue\n",
       "0                     179         $3.05                  780      $2379.77"
      ]
     },
     "execution_count": 4,
     "metadata": {},
     "output_type": "execute_result"
    }
   ],
   "source": [
    "# make new dataframe with only unique items\n",
    "uitems_df = purchase_df.drop_duplicates(subset='Item ID', keep=\"last\")\n",
    "\n",
    "# Get number of items and average price\n",
    "n_uitems = len(uitems_df['Item ID'])\n",
    "avg_price = round(uitems_df['Price'].mean() + 0.005,2) # add half a cent to ensure we are always round up to the nearest cent\n",
    "                                              # baised off of the real average\n",
    "# get total purchase info    \n",
    "n_purchases = len(purchase_df['Item ID'])\n",
    "total_rev = purchase_df['Price'].sum()\n",
    "\n",
    "# store into dictionary\n",
    "ptotal_d = {\n",
    "    'Number of Unique Items':n_uitems,\n",
    "    'Average Price':f\"${avg_price}\",\n",
    "    'Number of Purchases':n_purchases,\n",
    "    'Total Revenue':f\"${total_rev}\"\n",
    "}\n",
    "\n",
    "# make a dataframe of the dictionary\n",
    "ptotal_df = pd.DataFrame([ptotal_d])\n",
    "ptotal_df"
   ]
  },
  {
   "cell_type": "markdown",
   "metadata": {},
   "source": [
    "## Gender Demographics"
   ]
  },
  {
   "cell_type": "markdown",
   "metadata": {},
   "source": [
    "* Percentage and Count of Male Players\n",
    "\n",
    "\n",
    "* Percentage and Count of Female Players\n",
    "\n",
    "\n",
    "* Percentage and Count of Other / Non-Disclosed\n",
    "\n",
    "\n"
   ]
  },
  {
   "cell_type": "code",
   "execution_count": 5,
   "metadata": {},
   "outputs": [
    {
     "data": {
      "text/html": [
       "<div>\n",
       "<style scoped>\n",
       "    .dataframe tbody tr th:only-of-type {\n",
       "        vertical-align: middle;\n",
       "    }\n",
       "\n",
       "    .dataframe tbody tr th {\n",
       "        vertical-align: top;\n",
       "    }\n",
       "\n",
       "    .dataframe thead th {\n",
       "        text-align: right;\n",
       "    }\n",
       "</style>\n",
       "<table border=\"1\" class=\"dataframe\">\n",
       "  <thead>\n",
       "    <tr style=\"text-align: right;\">\n",
       "      <th></th>\n",
       "      <th>Total Count</th>\n",
       "      <th>Percentage of Players</th>\n",
       "    </tr>\n",
       "  </thead>\n",
       "  <tbody>\n",
       "    <tr>\n",
       "      <th>Male</th>\n",
       "      <td>484</td>\n",
       "      <td>84.03%</td>\n",
       "    </tr>\n",
       "    <tr>\n",
       "      <th>Female</th>\n",
       "      <td>81</td>\n",
       "      <td>14.06%</td>\n",
       "    </tr>\n",
       "    <tr>\n",
       "      <th>Other / Non-Disclosed</th>\n",
       "      <td>11</td>\n",
       "      <td>1.91%</td>\n",
       "    </tr>\n",
       "  </tbody>\n",
       "</table>\n",
       "</div>"
      ],
      "text/plain": [
       "                       Total Count Percentage of Players\n",
       "Male                           484                84.03%\n",
       "Female                          81                14.06%\n",
       "Other / Non-Disclosed           11                 1.91%"
      ]
     },
     "execution_count": 5,
     "metadata": {},
     "output_type": "execute_result"
    }
   ],
   "source": [
    "# Get dataframe with unique customer names and number of unique customers\n",
    "customer_df = purchase_df.drop_duplicates(subset='SN', keep=\"last\")\n",
    "n_ucustomer = len(customer_df['SN'])\n",
    "\n",
    "# Get overall gender info from unique customer dataframe\n",
    "gender = customer_df['Gender'].value_counts()\n",
    "\n",
    "# Add info to dictionary\n",
    "gender_d = {\n",
    "    'Total Count':{'Male':gender[0],'Female':gender[1],'Other / Non-Disclosed':gender[2]},\n",
    "    'Percentage of Players':{'Male':f\"{gender[0]/n_ucustomer*100:.2f}%\",'Female':f\"{gender[1]/n_ucustomer*100:.2f}%\",\n",
    "                             'Other / Non-Disclosed':f\"{gender[2]/n_ucustomer*100:.2f}%\"}\n",
    "}\n",
    "# convert dictionary to dataframe\n",
    "gender_df = pd.DataFrame(gender_d)\n",
    "gender_df"
   ]
  },
  {
   "cell_type": "markdown",
   "metadata": {},
   "source": [
    "\n",
    "## Purchasing Analysis (Gender)"
   ]
  },
  {
   "cell_type": "markdown",
   "metadata": {},
   "source": [
    "* Run basic calculations to obtain purchase count, avg. purchase price, avg. purchase total per person etc. by gender\n",
    "\n",
    "\n",
    "\n",
    "\n",
    "* Create a summary data frame to hold the results\n",
    "\n",
    "\n",
    "* Optional: give the displayed data cleaner formatting\n",
    "\n",
    "\n",
    "* Display the summary data frame"
   ]
  },
  {
   "cell_type": "code",
   "execution_count": 6,
   "metadata": {},
   "outputs": [
    {
     "data": {
      "text/html": [
       "<div>\n",
       "<style scoped>\n",
       "    .dataframe tbody tr th:only-of-type {\n",
       "        vertical-align: middle;\n",
       "    }\n",
       "\n",
       "    .dataframe tbody tr th {\n",
       "        vertical-align: top;\n",
       "    }\n",
       "\n",
       "    .dataframe thead th {\n",
       "        text-align: right;\n",
       "    }\n",
       "</style>\n",
       "<table border=\"1\" class=\"dataframe\">\n",
       "  <thead>\n",
       "    <tr style=\"text-align: right;\">\n",
       "      <th></th>\n",
       "      <th>Purchase Count</th>\n",
       "      <th>Average Purchase Price</th>\n",
       "      <th>Total Purchase Value</th>\n",
       "      <th>Avg Total Purchase per Person</th>\n",
       "    </tr>\n",
       "    <tr>\n",
       "      <th>Gender</th>\n",
       "      <th></th>\n",
       "      <th></th>\n",
       "      <th></th>\n",
       "      <th></th>\n",
       "    </tr>\n",
       "  </thead>\n",
       "  <tbody>\n",
       "    <tr>\n",
       "      <th>Female</th>\n",
       "      <td>113</td>\n",
       "      <td>$3.20</td>\n",
       "      <td>$361.94</td>\n",
       "      <td>$4.47</td>\n",
       "    </tr>\n",
       "    <tr>\n",
       "      <th>Male</th>\n",
       "      <td>652</td>\n",
       "      <td>$3.02</td>\n",
       "      <td>$1967.64</td>\n",
       "      <td>$4.07</td>\n",
       "    </tr>\n",
       "    <tr>\n",
       "      <th>Other / Non-Disclosed</th>\n",
       "      <td>15</td>\n",
       "      <td>$3.35</td>\n",
       "      <td>$50.19</td>\n",
       "      <td>$4.56</td>\n",
       "    </tr>\n",
       "  </tbody>\n",
       "</table>\n",
       "</div>"
      ],
      "text/plain": [
       "                       Purchase Count Average Purchase Price  \\\n",
       "Gender                                                         \n",
       "Female                            113                  $3.20   \n",
       "Male                              652                  $3.02   \n",
       "Other / Non-Disclosed              15                  $3.35   \n",
       "\n",
       "                      Total Purchase Value Avg Total Purchase per Person  \n",
       "Gender                                                                    \n",
       "Female                             $361.94                         $4.47  \n",
       "Male                              $1967.64                         $4.07  \n",
       "Other / Non-Disclosed               $50.19                         $4.56  "
      ]
     },
     "execution_count": 6,
     "metadata": {},
     "output_type": "execute_result"
    }
   ],
   "source": [
    "# get dataframes based off of gender\n",
    "female_df = purchase_df.loc[purchase_df['Gender'] == 'Female',:]\n",
    "male_df = purchase_df.loc[purchase_df['Gender'] == 'Male',:]\n",
    "ond_df = purchase_df.loc[purchase_df['Gender'] == 'Other / Non-Disclosed',:]\n",
    "\n",
    "# define a useful DataFrame list\n",
    "df_list = [female_df,male_df,ond_df]\n",
    "\n",
    "# make a function to get avg total purchase per person per gender dataframe\n",
    "def gavg(DF):\n",
    "    temp_avg = DF[['SN','Price']].groupby(['SN']).sum()\n",
    "    return round(temp_avg['Price'].mean(),2)\n",
    "\n",
    "# Start a dictionary for storing the info\n",
    "g_analysis_d = {\n",
    "    'Gender':['Female','Male','Other / Non-Disclosed'],\n",
    "    'Purchase Count':[],\n",
    "    'Average Purchase Price':[],\n",
    "    'Total Purchase Value':[],\n",
    "    'Avg Total Purchase per Person':[]\n",
    "}\n",
    "\n",
    "# calculate and add info for each Dataframe in the df_list into the analysis dictionary\n",
    "for dataframe in df_list:\n",
    "    g_analysis_d['Purchase Count'] += [len(dataframe['Purchase ID'])]\n",
    "    g_analysis_d['Average Purchase Price'] += [f\"${dataframe['Price'].mean():.2f}\"]\n",
    "    g_analysis_d['Total Purchase Value'] += [f\"${dataframe['Price'].sum()}\"]\n",
    "    g_analysis_d['Avg Total Purchase per Person'] += [f\"${gavg(dataframe)}\"]\n",
    "\n",
    "# Convert dict to df and format index\n",
    "g_analysis_df = pd.DataFrame(g_analysis_d)\n",
    "g_analysis_df = g_analysis_df.set_index('Gender')\n",
    "g_analysis_df"
   ]
  },
  {
   "cell_type": "markdown",
   "metadata": {},
   "source": [
    "## Age Demographics"
   ]
  },
  {
   "cell_type": "markdown",
   "metadata": {},
   "source": [
    "* Establish bins for ages\n",
    "\n",
    "\n",
    "* Categorize the existing players using the age bins. Hint: use pd.cut()\n",
    "\n",
    "\n",
    "* Calculate the numbers and percentages by age group\n",
    "\n",
    "\n",
    "* Create a summary data frame to hold the results\n",
    "\n",
    "\n",
    "* Optional: round the percentage column to two decimal points\n",
    "\n",
    "\n",
    "* Display Age Demographics Table\n"
   ]
  },
  {
   "cell_type": "code",
   "execution_count": 7,
   "metadata": {},
   "outputs": [
    {
     "name": "stderr",
     "output_type": "stream",
     "text": [
      "C:\\Users\\jgeis\\anaconda3\\envs\\PythonData\\lib\\site-packages\\pandas\\core\\indexing.py:845: SettingWithCopyWarning: \n",
      "A value is trying to be set on a copy of a slice from a DataFrame.\n",
      "Try using .loc[row_indexer,col_indexer] = value instead\n",
      "\n",
      "See the caveats in the documentation: https://pandas.pydata.org/pandas-docs/stable/user_guide/indexing.html#returning-a-view-versus-a-copy\n",
      "  self.obj[key] = _infer_fill_value(value)\n",
      "C:\\Users\\jgeis\\anaconda3\\envs\\PythonData\\lib\\site-packages\\pandas\\core\\indexing.py:966: SettingWithCopyWarning: \n",
      "A value is trying to be set on a copy of a slice from a DataFrame.\n",
      "Try using .loc[row_indexer,col_indexer] = value instead\n",
      "\n",
      "See the caveats in the documentation: https://pandas.pydata.org/pandas-docs/stable/user_guide/indexing.html#returning-a-view-versus-a-copy\n",
      "  self.obj[item] = s\n"
     ]
    },
    {
     "data": {
      "text/html": [
       "<style  type=\"text/css\" >\n",
       "</style><table id=\"T_5978e712_c585_11ea_ad69_4ccc6a69e33b\" ><thead>    <tr>        <th class=\"blank level0\" ></th>        <th class=\"col_heading level0 col0\" >Total Count</th>        <th class=\"col_heading level0 col1\" >Percentage of Players</th>    </tr>    <tr>        <th class=\"index_name level0\" >Age Range</th>        <th class=\"blank\" ></th>        <th class=\"blank\" ></th>    </tr></thead><tbody>\n",
       "                <tr>\n",
       "                        <th id=\"T_5978e712_c585_11ea_ad69_4ccc6a69e33blevel0_row0\" class=\"row_heading level0 row0\" ><10</th>\n",
       "                        <td id=\"T_5978e712_c585_11ea_ad69_4ccc6a69e33brow0_col0\" class=\"data row0 col0\" >17</td>\n",
       "                        <td id=\"T_5978e712_c585_11ea_ad69_4ccc6a69e33brow0_col1\" class=\"data row0 col1\" >2.95%</td>\n",
       "            </tr>\n",
       "            <tr>\n",
       "                        <th id=\"T_5978e712_c585_11ea_ad69_4ccc6a69e33blevel0_row1\" class=\"row_heading level0 row1\" >10-14</th>\n",
       "                        <td id=\"T_5978e712_c585_11ea_ad69_4ccc6a69e33brow1_col0\" class=\"data row1 col0\" >22</td>\n",
       "                        <td id=\"T_5978e712_c585_11ea_ad69_4ccc6a69e33brow1_col1\" class=\"data row1 col1\" >3.82%</td>\n",
       "            </tr>\n",
       "            <tr>\n",
       "                        <th id=\"T_5978e712_c585_11ea_ad69_4ccc6a69e33blevel0_row2\" class=\"row_heading level0 row2\" >15-19</th>\n",
       "                        <td id=\"T_5978e712_c585_11ea_ad69_4ccc6a69e33brow2_col0\" class=\"data row2 col0\" >107</td>\n",
       "                        <td id=\"T_5978e712_c585_11ea_ad69_4ccc6a69e33brow2_col1\" class=\"data row2 col1\" >18.58%</td>\n",
       "            </tr>\n",
       "            <tr>\n",
       "                        <th id=\"T_5978e712_c585_11ea_ad69_4ccc6a69e33blevel0_row3\" class=\"row_heading level0 row3\" >20-24</th>\n",
       "                        <td id=\"T_5978e712_c585_11ea_ad69_4ccc6a69e33brow3_col0\" class=\"data row3 col0\" >258</td>\n",
       "                        <td id=\"T_5978e712_c585_11ea_ad69_4ccc6a69e33brow3_col1\" class=\"data row3 col1\" >44.79%</td>\n",
       "            </tr>\n",
       "            <tr>\n",
       "                        <th id=\"T_5978e712_c585_11ea_ad69_4ccc6a69e33blevel0_row4\" class=\"row_heading level0 row4\" >25-29</th>\n",
       "                        <td id=\"T_5978e712_c585_11ea_ad69_4ccc6a69e33brow4_col0\" class=\"data row4 col0\" >77</td>\n",
       "                        <td id=\"T_5978e712_c585_11ea_ad69_4ccc6a69e33brow4_col1\" class=\"data row4 col1\" >13.37%</td>\n",
       "            </tr>\n",
       "            <tr>\n",
       "                        <th id=\"T_5978e712_c585_11ea_ad69_4ccc6a69e33blevel0_row5\" class=\"row_heading level0 row5\" >30-34</th>\n",
       "                        <td id=\"T_5978e712_c585_11ea_ad69_4ccc6a69e33brow5_col0\" class=\"data row5 col0\" >52</td>\n",
       "                        <td id=\"T_5978e712_c585_11ea_ad69_4ccc6a69e33brow5_col1\" class=\"data row5 col1\" >9.03%</td>\n",
       "            </tr>\n",
       "            <tr>\n",
       "                        <th id=\"T_5978e712_c585_11ea_ad69_4ccc6a69e33blevel0_row6\" class=\"row_heading level0 row6\" >35-39</th>\n",
       "                        <td id=\"T_5978e712_c585_11ea_ad69_4ccc6a69e33brow6_col0\" class=\"data row6 col0\" >31</td>\n",
       "                        <td id=\"T_5978e712_c585_11ea_ad69_4ccc6a69e33brow6_col1\" class=\"data row6 col1\" >5.38%</td>\n",
       "            </tr>\n",
       "            <tr>\n",
       "                        <th id=\"T_5978e712_c585_11ea_ad69_4ccc6a69e33blevel0_row7\" class=\"row_heading level0 row7\" >40+</th>\n",
       "                        <td id=\"T_5978e712_c585_11ea_ad69_4ccc6a69e33brow7_col0\" class=\"data row7 col0\" >12</td>\n",
       "                        <td id=\"T_5978e712_c585_11ea_ad69_4ccc6a69e33brow7_col1\" class=\"data row7 col1\" >2.08%</td>\n",
       "            </tr>\n",
       "    </tbody></table>"
      ],
      "text/plain": [
       "<pandas.io.formats.style.Styler at 0x17685f56940>"
      ]
     },
     "execution_count": 7,
     "metadata": {},
     "output_type": "execute_result"
    }
   ],
   "source": [
    "# Create the bin for ages ranges\n",
    "bins = [0,9,14,19,24,29,34,39,10000]\n",
    "# Create the label for the age ranges\n",
    "age_names = ['<10','10-14','15-19','20-24','25-29','30-34','35-39','40+']\n",
    "\n",
    "age_range = []\n",
    "age_range[:] = pd.cut(customer_df[\"Age\"],bins,labels=age_names,include_lowest=True)[:]\n",
    "# Added age range this way due to error message, still getting it even after error.\n",
    "customer_df.loc[:,'Age Range'] = age_range[:]\n",
    "\n",
    "# Create a groupby with just age information \n",
    "age_g = customer_df[['Age','Age Range']].groupby(['Age Range'])\n",
    "# Get appropriate count of each age range\n",
    "final_age_df = pd.DataFrame(age_g['Age'].count())\n",
    "final_age_df = final_age_df.loc[age_names,:] # reformate with age_names so that <10 is the first row\n",
    "# Get total number of players\n",
    "total_players = final_age_df.sum()\n",
    "# Solve for percentage of players in each age range\n",
    "p_percent = [x/total_players for x in final_age_df['Age']]\n",
    "# Add percentages to the df and rename 'Age' column\n",
    "final_age_df.loc[:,'Percentage of Players'] = p_percent[:]\n",
    "final_age_df = final_age_df.rename(columns={'Age':'Total Count'})\n",
    "\n",
    "# Show df with correct formating\n",
    "## idea from stackoverflow for showing with correct format, but keeping actuall data as float\n",
    "## https://stackoverflow.com/questions/23981601/format-certain-floating-dataframe-columns-into-percentage-in-pandas\n",
    "final_age_df.style.format({'Percentage of Players':'{:,.2%}'.format})"
   ]
  },
  {
   "cell_type": "code",
   "execution_count": null,
   "metadata": {},
   "outputs": [],
   "source": []
  },
  {
   "cell_type": "markdown",
   "metadata": {},
   "source": [
    "## Purchasing Analysis (Age)"
   ]
  },
  {
   "cell_type": "markdown",
   "metadata": {},
   "source": [
    "* Bin the purchase_data data frame by age\n",
    "\n",
    "\n",
    "* Run basic calculations to obtain purchase count, avg. purchase price, avg. purchase total per person etc. in the table below\n",
    "\n",
    "\n",
    "* Create a summary data frame to hold the results\n",
    "\n",
    "\n",
    "* Optional: give the displayed data cleaner formatting\n",
    "\n",
    "\n",
    "* Display the summary data frame"
   ]
  },
  {
   "cell_type": "code",
   "execution_count": 8,
   "metadata": {},
   "outputs": [
    {
     "data": {
      "text/html": [
       "<style  type=\"text/css\" >\n",
       "</style><table id=\"T_59819990_c585_11ea_8f4a_4ccc6a69e33b\" ><thead>    <tr>        <th class=\"blank level0\" ></th>        <th class=\"col_heading level0 col0\" >Purchase Count</th>        <th class=\"col_heading level0 col1\" >Average Purchase Price</th>        <th class=\"col_heading level0 col2\" >Total Purchase Value</th>        <th class=\"col_heading level0 col3\" >Avg Total Purchase per Person</th>    </tr>    <tr>        <th class=\"index_name level0\" >Age Range</th>        <th class=\"blank\" ></th>        <th class=\"blank\" ></th>        <th class=\"blank\" ></th>        <th class=\"blank\" ></th>    </tr></thead><tbody>\n",
       "                <tr>\n",
       "                        <th id=\"T_59819990_c585_11ea_8f4a_4ccc6a69e33blevel0_row0\" class=\"row_heading level0 row0\" ><10</th>\n",
       "                        <td id=\"T_59819990_c585_11ea_8f4a_4ccc6a69e33brow0_col0\" class=\"data row0 col0\" >23</td>\n",
       "                        <td id=\"T_59819990_c585_11ea_8f4a_4ccc6a69e33brow0_col1\" class=\"data row0 col1\" >$3.35</td>\n",
       "                        <td id=\"T_59819990_c585_11ea_8f4a_4ccc6a69e33brow0_col2\" class=\"data row0 col2\" >$77.13</td>\n",
       "                        <td id=\"T_59819990_c585_11ea_8f4a_4ccc6a69e33brow0_col3\" class=\"data row0 col3\" >$4.54</td>\n",
       "            </tr>\n",
       "            <tr>\n",
       "                        <th id=\"T_59819990_c585_11ea_8f4a_4ccc6a69e33blevel0_row1\" class=\"row_heading level0 row1\" >10-14</th>\n",
       "                        <td id=\"T_59819990_c585_11ea_8f4a_4ccc6a69e33brow1_col0\" class=\"data row1 col0\" >28</td>\n",
       "                        <td id=\"T_59819990_c585_11ea_8f4a_4ccc6a69e33brow1_col1\" class=\"data row1 col1\" >$2.96</td>\n",
       "                        <td id=\"T_59819990_c585_11ea_8f4a_4ccc6a69e33brow1_col2\" class=\"data row1 col2\" >$82.78</td>\n",
       "                        <td id=\"T_59819990_c585_11ea_8f4a_4ccc6a69e33brow1_col3\" class=\"data row1 col3\" >$3.76</td>\n",
       "            </tr>\n",
       "            <tr>\n",
       "                        <th id=\"T_59819990_c585_11ea_8f4a_4ccc6a69e33blevel0_row2\" class=\"row_heading level0 row2\" >15-19</th>\n",
       "                        <td id=\"T_59819990_c585_11ea_8f4a_4ccc6a69e33brow2_col0\" class=\"data row2 col0\" >136</td>\n",
       "                        <td id=\"T_59819990_c585_11ea_8f4a_4ccc6a69e33brow2_col1\" class=\"data row2 col1\" >$3.04</td>\n",
       "                        <td id=\"T_59819990_c585_11ea_8f4a_4ccc6a69e33brow2_col2\" class=\"data row2 col2\" >$412.89</td>\n",
       "                        <td id=\"T_59819990_c585_11ea_8f4a_4ccc6a69e33brow2_col3\" class=\"data row2 col3\" >$3.86</td>\n",
       "            </tr>\n",
       "            <tr>\n",
       "                        <th id=\"T_59819990_c585_11ea_8f4a_4ccc6a69e33blevel0_row3\" class=\"row_heading level0 row3\" >20-24</th>\n",
       "                        <td id=\"T_59819990_c585_11ea_8f4a_4ccc6a69e33brow3_col0\" class=\"data row3 col0\" >365</td>\n",
       "                        <td id=\"T_59819990_c585_11ea_8f4a_4ccc6a69e33brow3_col1\" class=\"data row3 col1\" >$3.05</td>\n",
       "                        <td id=\"T_59819990_c585_11ea_8f4a_4ccc6a69e33brow3_col2\" class=\"data row3 col2\" >$1,114.06</td>\n",
       "                        <td id=\"T_59819990_c585_11ea_8f4a_4ccc6a69e33brow3_col3\" class=\"data row3 col3\" >$4.32</td>\n",
       "            </tr>\n",
       "            <tr>\n",
       "                        <th id=\"T_59819990_c585_11ea_8f4a_4ccc6a69e33blevel0_row4\" class=\"row_heading level0 row4\" >25-29</th>\n",
       "                        <td id=\"T_59819990_c585_11ea_8f4a_4ccc6a69e33brow4_col0\" class=\"data row4 col0\" >101</td>\n",
       "                        <td id=\"T_59819990_c585_11ea_8f4a_4ccc6a69e33brow4_col1\" class=\"data row4 col1\" >$2.90</td>\n",
       "                        <td id=\"T_59819990_c585_11ea_8f4a_4ccc6a69e33brow4_col2\" class=\"data row4 col2\" >$293.00</td>\n",
       "                        <td id=\"T_59819990_c585_11ea_8f4a_4ccc6a69e33brow4_col3\" class=\"data row4 col3\" >$3.81</td>\n",
       "            </tr>\n",
       "            <tr>\n",
       "                        <th id=\"T_59819990_c585_11ea_8f4a_4ccc6a69e33blevel0_row5\" class=\"row_heading level0 row5\" >30-34</th>\n",
       "                        <td id=\"T_59819990_c585_11ea_8f4a_4ccc6a69e33brow5_col0\" class=\"data row5 col0\" >73</td>\n",
       "                        <td id=\"T_59819990_c585_11ea_8f4a_4ccc6a69e33brow5_col1\" class=\"data row5 col1\" >$2.93</td>\n",
       "                        <td id=\"T_59819990_c585_11ea_8f4a_4ccc6a69e33brow5_col2\" class=\"data row5 col2\" >$214.00</td>\n",
       "                        <td id=\"T_59819990_c585_11ea_8f4a_4ccc6a69e33brow5_col3\" class=\"data row5 col3\" >$4.12</td>\n",
       "            </tr>\n",
       "            <tr>\n",
       "                        <th id=\"T_59819990_c585_11ea_8f4a_4ccc6a69e33blevel0_row6\" class=\"row_heading level0 row6\" >35-39</th>\n",
       "                        <td id=\"T_59819990_c585_11ea_8f4a_4ccc6a69e33brow6_col0\" class=\"data row6 col0\" >41</td>\n",
       "                        <td id=\"T_59819990_c585_11ea_8f4a_4ccc6a69e33brow6_col1\" class=\"data row6 col1\" >$3.60</td>\n",
       "                        <td id=\"T_59819990_c585_11ea_8f4a_4ccc6a69e33brow6_col2\" class=\"data row6 col2\" >$147.67</td>\n",
       "                        <td id=\"T_59819990_c585_11ea_8f4a_4ccc6a69e33brow6_col3\" class=\"data row6 col3\" >$4.76</td>\n",
       "            </tr>\n",
       "            <tr>\n",
       "                        <th id=\"T_59819990_c585_11ea_8f4a_4ccc6a69e33blevel0_row7\" class=\"row_heading level0 row7\" >40+</th>\n",
       "                        <td id=\"T_59819990_c585_11ea_8f4a_4ccc6a69e33brow7_col0\" class=\"data row7 col0\" >13</td>\n",
       "                        <td id=\"T_59819990_c585_11ea_8f4a_4ccc6a69e33brow7_col1\" class=\"data row7 col1\" >$2.94</td>\n",
       "                        <td id=\"T_59819990_c585_11ea_8f4a_4ccc6a69e33brow7_col2\" class=\"data row7 col2\" >$38.24</td>\n",
       "                        <td id=\"T_59819990_c585_11ea_8f4a_4ccc6a69e33brow7_col3\" class=\"data row7 col3\" >$3.19</td>\n",
       "            </tr>\n",
       "    </tbody></table>"
      ],
      "text/plain": [
       "<pandas.io.formats.style.Styler at 0x176882d9710>"
      ]
     },
     "execution_count": 8,
     "metadata": {},
     "output_type": "execute_result"
    }
   ],
   "source": [
    "# Use previous bin and age_names to create age range column again\n",
    "p_age = []\n",
    "p_age[:] = pd.cut(purchase_df[\"Age\"],bins,labels=age_names,include_lowest=True)[:]\n",
    "p_age_df = purchase_df.loc[:,:]\n",
    "p_age_df['Age Range'] = p_age\n",
    "\n",
    "# Get 'Purchase Count', 'Average Purchase Price', and 'Total Purchase Value' using groupby functions\n",
    "## Get age range groupby\n",
    "p_age_g = p_age_df[['Age Range','Price']].groupby(['Age Range'])\n",
    "## Add summary dataframe\n",
    "age_summary_df = pd.DataFrame(index=age_names)\n",
    "## Add the groupby columns to the summary df\n",
    "age_summary_df['Purchase Count'] = p_age_g.count()\n",
    "age_summary_df['Average Purchase Price'] = p_age_g.mean()\n",
    "age_summary_df['Total Purchase Value'] = p_age_g.sum()\n",
    "\n",
    "\n",
    "# Get avg total purchase price per person in age range\n",
    "## Groupby 'Age Range' and 'SN'\n",
    "p_agename_g = p_age_df[['Age Range','Price','SN']].groupby(['Age Range','SN'])\n",
    "## Get total amount spent per person per age range and change index back to default\n",
    "p_agesum_df = p_agename_g.sum().reset_index()\n",
    "## Finish by doing groupby on just 'Age Range' this time and store average in the df\n",
    "p_agemean_g = p_agesum_df[['Age Range','Price']].groupby(['Age Range'])\n",
    "age_summary_df['Avg Total Purchase per Person'] = p_agemean_g.mean()\n",
    "\n",
    "\n",
    "# Handle all final formating chages and output result\n",
    "age_summary_df.index.names = ['Age Range']\n",
    "age_summary_df.style.format({\n",
    "                            'Average Purchase Price':'${:,.2f}'.format,\n",
    "                            'Total Purchase Value':'${:,.2f}'.format,\n",
    "                            'Avg Total Purchase per Person':'${:,.2f}'.format\n",
    "                            })\n"
   ]
  },
  {
   "cell_type": "markdown",
   "metadata": {},
   "source": [
    "## Top Spenders"
   ]
  },
  {
   "cell_type": "markdown",
   "metadata": {},
   "source": [
    "* Run basic calculations to obtain the results in the table below\n",
    "\n",
    "\n",
    "* Create a summary data frame to hold the results\n",
    "\n",
    "\n",
    "* Sort the total purchase value column in descending order\n",
    "\n",
    "\n",
    "* Optional: give the displayed data cleaner formatting\n",
    "\n",
    "\n",
    "* Display a preview of the summary data frame\n",
    "\n"
   ]
  },
  {
   "cell_type": "code",
   "execution_count": 9,
   "metadata": {},
   "outputs": [
    {
     "data": {
      "text/html": [
       "<style  type=\"text/css\" >\n",
       "</style><table id=\"T_59873ee6_c585_11ea_88df_4ccc6a69e33b\" ><thead>    <tr>        <th class=\"blank level0\" ></th>        <th class=\"col_heading level0 col0\" >Purchase Count</th>        <th class=\"col_heading level0 col1\" >Average Purchase Price</th>        <th class=\"col_heading level0 col2\" >Total Purchase Value</th>    </tr>    <tr>        <th class=\"index_name level0\" >SN</th>        <th class=\"blank\" ></th>        <th class=\"blank\" ></th>        <th class=\"blank\" ></th>    </tr></thead><tbody>\n",
       "                <tr>\n",
       "                        <th id=\"T_59873ee6_c585_11ea_88df_4ccc6a69e33blevel0_row0\" class=\"row_heading level0 row0\" >Lisosia93</th>\n",
       "                        <td id=\"T_59873ee6_c585_11ea_88df_4ccc6a69e33brow0_col0\" class=\"data row0 col0\" >5</td>\n",
       "                        <td id=\"T_59873ee6_c585_11ea_88df_4ccc6a69e33brow0_col1\" class=\"data row0 col1\" >$3.79</td>\n",
       "                        <td id=\"T_59873ee6_c585_11ea_88df_4ccc6a69e33brow0_col2\" class=\"data row0 col2\" >$18.96</td>\n",
       "            </tr>\n",
       "            <tr>\n",
       "                        <th id=\"T_59873ee6_c585_11ea_88df_4ccc6a69e33blevel0_row1\" class=\"row_heading level0 row1\" >Idastidru52</th>\n",
       "                        <td id=\"T_59873ee6_c585_11ea_88df_4ccc6a69e33brow1_col0\" class=\"data row1 col0\" >4</td>\n",
       "                        <td id=\"T_59873ee6_c585_11ea_88df_4ccc6a69e33brow1_col1\" class=\"data row1 col1\" >$3.86</td>\n",
       "                        <td id=\"T_59873ee6_c585_11ea_88df_4ccc6a69e33brow1_col2\" class=\"data row1 col2\" >$15.45</td>\n",
       "            </tr>\n",
       "            <tr>\n",
       "                        <th id=\"T_59873ee6_c585_11ea_88df_4ccc6a69e33blevel0_row2\" class=\"row_heading level0 row2\" >Chamjask73</th>\n",
       "                        <td id=\"T_59873ee6_c585_11ea_88df_4ccc6a69e33brow2_col0\" class=\"data row2 col0\" >3</td>\n",
       "                        <td id=\"T_59873ee6_c585_11ea_88df_4ccc6a69e33brow2_col1\" class=\"data row2 col1\" >$4.61</td>\n",
       "                        <td id=\"T_59873ee6_c585_11ea_88df_4ccc6a69e33brow2_col2\" class=\"data row2 col2\" >$13.83</td>\n",
       "            </tr>\n",
       "            <tr>\n",
       "                        <th id=\"T_59873ee6_c585_11ea_88df_4ccc6a69e33blevel0_row3\" class=\"row_heading level0 row3\" >Iral74</th>\n",
       "                        <td id=\"T_59873ee6_c585_11ea_88df_4ccc6a69e33brow3_col0\" class=\"data row3 col0\" >4</td>\n",
       "                        <td id=\"T_59873ee6_c585_11ea_88df_4ccc6a69e33brow3_col1\" class=\"data row3 col1\" >$3.40</td>\n",
       "                        <td id=\"T_59873ee6_c585_11ea_88df_4ccc6a69e33brow3_col2\" class=\"data row3 col2\" >$13.62</td>\n",
       "            </tr>\n",
       "            <tr>\n",
       "                        <th id=\"T_59873ee6_c585_11ea_88df_4ccc6a69e33blevel0_row4\" class=\"row_heading level0 row4\" >Iskadarya95</th>\n",
       "                        <td id=\"T_59873ee6_c585_11ea_88df_4ccc6a69e33brow4_col0\" class=\"data row4 col0\" >3</td>\n",
       "                        <td id=\"T_59873ee6_c585_11ea_88df_4ccc6a69e33brow4_col1\" class=\"data row4 col1\" >$4.37</td>\n",
       "                        <td id=\"T_59873ee6_c585_11ea_88df_4ccc6a69e33brow4_col2\" class=\"data row4 col2\" >$13.10</td>\n",
       "            </tr>\n",
       "    </tbody></table>"
      ],
      "text/plain": [
       "<pandas.io.formats.style.Styler at 0x17685f57b00>"
      ]
     },
     "execution_count": 9,
     "metadata": {},
     "output_type": "execute_result"
    }
   ],
   "source": [
    "# Get a groupby using just 'SN' name and the the amount spent on the transaction\n",
    "tops_g = purchase_df[['SN','Price']].groupby(['SN'])\n",
    "# Find the top 5 spenders after summing up all of their purchases\n",
    "top5 = tops_g.sum().nlargest(5,'Price')\n",
    "top5_spenders = list(top5.index)\n",
    "\n",
    "# Create empty summary df with the index being the top 5 spenders\n",
    "top_spenders_df = pd.DataFrame(index=top5_spenders)\n",
    "\n",
    "# Using top5 spenders, find all purchases made by them\n",
    "top5_df = purchase_df[['SN','Price']].loc[purchase_df['SN'].isin(top5_spenders),:]\n",
    "# groupby 'SN' on the dataframe only including purchases of the 5 top spenders\n",
    "top5_g = top5_df.groupby('SN')\n",
    "\n",
    "# Add everything to summary df\n",
    "top_spenders_df['Purchase Count'] = top5_g.count()\n",
    "top_spenders_df['Average Purchase Price'] = top5_g.mean()\n",
    "top_spenders_df['Total Purchase Value'] = top5['Price']\n",
    "\n",
    "# Display the formated version\n",
    "top_spenders_df.index.names = ['SN']\n",
    "top_spenders_df.style.format({\n",
    "                            'Average Purchase Price':'${:,.2f}'.format,\n",
    "                            'Total Purchase Value':'${:,.2f}'.format\n",
    "                            })"
   ]
  },
  {
   "cell_type": "markdown",
   "metadata": {},
   "source": [
    "## Most Popular Items"
   ]
  },
  {
   "cell_type": "markdown",
   "metadata": {},
   "source": [
    "* Retrieve the Item ID, Item Name, and Item Price columns\n",
    "\n",
    "\n",
    "* Group by Item ID and Item Name. Perform calculations to obtain purchase count, item price, and total purchase value\n",
    "\n",
    "\n",
    "* Create a summary data frame to hold the results\n",
    "\n",
    "\n",
    "* Sort the purchase count column in descending order\n",
    "\n",
    "\n",
    "* Optional: give the displayed data cleaner formatting\n",
    "\n",
    "\n",
    "* Display a preview of the summary data frame\n",
    "\n"
   ]
  },
  {
   "cell_type": "code",
   "execution_count": 10,
   "metadata": {},
   "outputs": [
    {
     "data": {
      "text/html": [
       "<style  type=\"text/css\" >\n",
       "</style><table id=\"T_598e91e6_c585_11ea_8154_4ccc6a69e33b\" ><thead>    <tr>        <th class=\"blank\" ></th>        <th class=\"blank level0\" ></th>        <th class=\"col_heading level0 col0\" >Purchase Count</th>        <th class=\"col_heading level0 col1\" >Item Price</th>        <th class=\"col_heading level0 col2\" >Total Purchase Value</th>    </tr>    <tr>        <th class=\"index_name level0\" >Item ID</th>        <th class=\"index_name level1\" >Item Name</th>        <th class=\"blank\" ></th>        <th class=\"blank\" ></th>        <th class=\"blank\" ></th>    </tr></thead><tbody>\n",
       "                <tr>\n",
       "                        <th id=\"T_598e91e6_c585_11ea_8154_4ccc6a69e33blevel0_row0\" class=\"row_heading level0 row0\" >92</th>\n",
       "                        <th id=\"T_598e91e6_c585_11ea_8154_4ccc6a69e33blevel1_row0\" class=\"row_heading level1 row0\" >Final Critic</th>\n",
       "                        <td id=\"T_598e91e6_c585_11ea_8154_4ccc6a69e33brow0_col0\" class=\"data row0 col0\" >13</td>\n",
       "                        <td id=\"T_598e91e6_c585_11ea_8154_4ccc6a69e33brow0_col1\" class=\"data row0 col1\" >$4.61</td>\n",
       "                        <td id=\"T_598e91e6_c585_11ea_8154_4ccc6a69e33brow0_col2\" class=\"data row0 col2\" >$59.99</td>\n",
       "            </tr>\n",
       "            <tr>\n",
       "                        <th id=\"T_598e91e6_c585_11ea_8154_4ccc6a69e33blevel0_row1\" class=\"row_heading level0 row1\" >178</th>\n",
       "                        <th id=\"T_598e91e6_c585_11ea_8154_4ccc6a69e33blevel1_row1\" class=\"row_heading level1 row1\" >Oathbreaker, Last Hope of the Breaking Storm</th>\n",
       "                        <td id=\"T_598e91e6_c585_11ea_8154_4ccc6a69e33brow1_col0\" class=\"data row1 col0\" >12</td>\n",
       "                        <td id=\"T_598e91e6_c585_11ea_8154_4ccc6a69e33brow1_col1\" class=\"data row1 col1\" >$4.23</td>\n",
       "                        <td id=\"T_598e91e6_c585_11ea_8154_4ccc6a69e33brow1_col2\" class=\"data row1 col2\" >$50.76</td>\n",
       "            </tr>\n",
       "            <tr>\n",
       "                        <th id=\"T_598e91e6_c585_11ea_8154_4ccc6a69e33blevel0_row2\" class=\"row_heading level0 row2\" >82</th>\n",
       "                        <th id=\"T_598e91e6_c585_11ea_8154_4ccc6a69e33blevel1_row2\" class=\"row_heading level1 row2\" >Nirvana</th>\n",
       "                        <td id=\"T_598e91e6_c585_11ea_8154_4ccc6a69e33brow2_col0\" class=\"data row2 col0\" >9</td>\n",
       "                        <td id=\"T_598e91e6_c585_11ea_8154_4ccc6a69e33brow2_col1\" class=\"data row2 col1\" >$4.90</td>\n",
       "                        <td id=\"T_598e91e6_c585_11ea_8154_4ccc6a69e33brow2_col2\" class=\"data row2 col2\" >$44.10</td>\n",
       "            </tr>\n",
       "            <tr>\n",
       "                        <th id=\"T_598e91e6_c585_11ea_8154_4ccc6a69e33blevel0_row3\" class=\"row_heading level0 row3\" >108</th>\n",
       "                        <th id=\"T_598e91e6_c585_11ea_8154_4ccc6a69e33blevel1_row3\" class=\"row_heading level1 row3\" >Extraction, Quickblade Of Trembling Hands</th>\n",
       "                        <td id=\"T_598e91e6_c585_11ea_8154_4ccc6a69e33brow3_col0\" class=\"data row3 col0\" >9</td>\n",
       "                        <td id=\"T_598e91e6_c585_11ea_8154_4ccc6a69e33brow3_col1\" class=\"data row3 col1\" >$3.53</td>\n",
       "                        <td id=\"T_598e91e6_c585_11ea_8154_4ccc6a69e33brow3_col2\" class=\"data row3 col2\" >$31.77</td>\n",
       "            </tr>\n",
       "            <tr>\n",
       "                        <th id=\"T_598e91e6_c585_11ea_8154_4ccc6a69e33blevel0_row4\" class=\"row_heading level0 row4\" >132</th>\n",
       "                        <th id=\"T_598e91e6_c585_11ea_8154_4ccc6a69e33blevel1_row4\" class=\"row_heading level1 row4\" >Persuasion</th>\n",
       "                        <td id=\"T_598e91e6_c585_11ea_8154_4ccc6a69e33brow4_col0\" class=\"data row4 col0\" >9</td>\n",
       "                        <td id=\"T_598e91e6_c585_11ea_8154_4ccc6a69e33brow4_col1\" class=\"data row4 col1\" >$3.22</td>\n",
       "                        <td id=\"T_598e91e6_c585_11ea_8154_4ccc6a69e33brow4_col2\" class=\"data row4 col2\" >$28.99</td>\n",
       "            </tr>\n",
       "            <tr>\n",
       "                        <th id=\"T_598e91e6_c585_11ea_8154_4ccc6a69e33blevel0_row5\" class=\"row_heading level0 row5\" >145</th>\n",
       "                        <th id=\"T_598e91e6_c585_11ea_8154_4ccc6a69e33blevel1_row5\" class=\"row_heading level1 row5\" >Fiery Glass Crusader</th>\n",
       "                        <td id=\"T_598e91e6_c585_11ea_8154_4ccc6a69e33brow5_col0\" class=\"data row5 col0\" >9</td>\n",
       "                        <td id=\"T_598e91e6_c585_11ea_8154_4ccc6a69e33brow5_col1\" class=\"data row5 col1\" >$4.58</td>\n",
       "                        <td id=\"T_598e91e6_c585_11ea_8154_4ccc6a69e33brow5_col2\" class=\"data row5 col2\" >$41.22</td>\n",
       "            </tr>\n",
       "    </tbody></table>"
      ],
      "text/plain": [
       "<pandas.io.formats.style.Styler at 0x1768a1adfd0>"
      ]
     },
     "execution_count": 10,
     "metadata": {},
     "output_type": "execute_result"
    }
   ],
   "source": [
    "# Get a groupby using Item ID and Name\n",
    "tops_g = purchase_df[['Item ID','Item Name','Price']].groupby(['Item ID','Item Name'])\n",
    "# Find the top 6 most popular items(6 as 4 items sold 9 times) after counting their purchases\n",
    "top6 = tops_g.count().nlargest(6,'Price')\n",
    "\n",
    "# Create empty dataframe using index of 6 most popular items\n",
    "most_pop_df = pd.DataFrame(index=top6.index)\n",
    "\n",
    "# Store item IDs of the 6 items in list for easy filtering\n",
    "items = [top6.index[x][0] for x in range(0,6)]\n",
    "# Create df of all purchases of the 6 most popular items\n",
    "top6_df = purchase_df[['Item ID','Item Name','Price']].loc[purchase_df['Item ID'].isin(items),:]\n",
    "\n",
    "# Groupby on the top6 dataframe to get info filtered by item\n",
    "top6_g = top6_df.groupby(['Item ID','Item Name'])\n",
    "\n",
    "# Store most popular item purchase info in dataframe\n",
    "most_pop_df['Purchase Count'] = top6_g.count()\n",
    "most_pop_df['Item Price'] = top6_g.mean()\n",
    "most_pop_df['Total Purchase Value'] = top6_g.sum()\n",
    "\n",
    "# Display the formated version\n",
    "most_pop_df.style.format({\n",
    "                            'Item Price':'${:,.2f}'.format,\n",
    "                            'Total Purchase Value':'${:,.2f}'.format\n",
    "                            })"
   ]
  },
  {
   "cell_type": "markdown",
   "metadata": {},
   "source": [
    "## Most Profitable Items"
   ]
  },
  {
   "cell_type": "markdown",
   "metadata": {},
   "source": [
    "* Sort the above table by total purchase value in descending order\n",
    "\n",
    "\n",
    "* Optional: give the displayed data cleaner formatting\n",
    "\n",
    "\n",
    "* Display a preview of the data frame\n",
    "\n"
   ]
  },
  {
   "cell_type": "code",
   "execution_count": 11,
   "metadata": {},
   "outputs": [
    {
     "data": {
      "text/html": [
       "<style  type=\"text/css\" >\n",
       "</style><table id=\"T_59956fb6_c585_11ea_bbc3_4ccc6a69e33b\" ><thead>    <tr>        <th class=\"blank\" ></th>        <th class=\"blank level0\" ></th>        <th class=\"col_heading level0 col0\" >Purchase Count</th>        <th class=\"col_heading level0 col1\" >Item Price</th>        <th class=\"col_heading level0 col2\" >Total Purchase Value</th>    </tr>    <tr>        <th class=\"index_name level0\" >Item ID</th>        <th class=\"index_name level1\" >Item Name</th>        <th class=\"blank\" ></th>        <th class=\"blank\" ></th>        <th class=\"blank\" ></th>    </tr></thead><tbody>\n",
       "                <tr>\n",
       "                        <th id=\"T_59956fb6_c585_11ea_bbc3_4ccc6a69e33blevel0_row0\" class=\"row_heading level0 row0\" >92</th>\n",
       "                        <th id=\"T_59956fb6_c585_11ea_bbc3_4ccc6a69e33blevel1_row0\" class=\"row_heading level1 row0\" >Final Critic</th>\n",
       "                        <td id=\"T_59956fb6_c585_11ea_bbc3_4ccc6a69e33brow0_col0\" class=\"data row0 col0\" >13</td>\n",
       "                        <td id=\"T_59956fb6_c585_11ea_bbc3_4ccc6a69e33brow0_col1\" class=\"data row0 col1\" >$4.61</td>\n",
       "                        <td id=\"T_59956fb6_c585_11ea_bbc3_4ccc6a69e33brow0_col2\" class=\"data row0 col2\" >$59.99</td>\n",
       "            </tr>\n",
       "            <tr>\n",
       "                        <th id=\"T_59956fb6_c585_11ea_bbc3_4ccc6a69e33blevel0_row1\" class=\"row_heading level0 row1\" >178</th>\n",
       "                        <th id=\"T_59956fb6_c585_11ea_bbc3_4ccc6a69e33blevel1_row1\" class=\"row_heading level1 row1\" >Oathbreaker, Last Hope of the Breaking Storm</th>\n",
       "                        <td id=\"T_59956fb6_c585_11ea_bbc3_4ccc6a69e33brow1_col0\" class=\"data row1 col0\" >12</td>\n",
       "                        <td id=\"T_59956fb6_c585_11ea_bbc3_4ccc6a69e33brow1_col1\" class=\"data row1 col1\" >$4.23</td>\n",
       "                        <td id=\"T_59956fb6_c585_11ea_bbc3_4ccc6a69e33brow1_col2\" class=\"data row1 col2\" >$50.76</td>\n",
       "            </tr>\n",
       "            <tr>\n",
       "                        <th id=\"T_59956fb6_c585_11ea_bbc3_4ccc6a69e33blevel0_row2\" class=\"row_heading level0 row2\" >82</th>\n",
       "                        <th id=\"T_59956fb6_c585_11ea_bbc3_4ccc6a69e33blevel1_row2\" class=\"row_heading level1 row2\" >Nirvana</th>\n",
       "                        <td id=\"T_59956fb6_c585_11ea_bbc3_4ccc6a69e33brow2_col0\" class=\"data row2 col0\" >9</td>\n",
       "                        <td id=\"T_59956fb6_c585_11ea_bbc3_4ccc6a69e33brow2_col1\" class=\"data row2 col1\" >$4.90</td>\n",
       "                        <td id=\"T_59956fb6_c585_11ea_bbc3_4ccc6a69e33brow2_col2\" class=\"data row2 col2\" >$44.10</td>\n",
       "            </tr>\n",
       "            <tr>\n",
       "                        <th id=\"T_59956fb6_c585_11ea_bbc3_4ccc6a69e33blevel0_row3\" class=\"row_heading level0 row3\" >145</th>\n",
       "                        <th id=\"T_59956fb6_c585_11ea_bbc3_4ccc6a69e33blevel1_row3\" class=\"row_heading level1 row3\" >Fiery Glass Crusader</th>\n",
       "                        <td id=\"T_59956fb6_c585_11ea_bbc3_4ccc6a69e33brow3_col0\" class=\"data row3 col0\" >9</td>\n",
       "                        <td id=\"T_59956fb6_c585_11ea_bbc3_4ccc6a69e33brow3_col1\" class=\"data row3 col1\" >$4.58</td>\n",
       "                        <td id=\"T_59956fb6_c585_11ea_bbc3_4ccc6a69e33brow3_col2\" class=\"data row3 col2\" >$41.22</td>\n",
       "            </tr>\n",
       "            <tr>\n",
       "                        <th id=\"T_59956fb6_c585_11ea_bbc3_4ccc6a69e33blevel0_row4\" class=\"row_heading level0 row4\" >103</th>\n",
       "                        <th id=\"T_59956fb6_c585_11ea_bbc3_4ccc6a69e33blevel1_row4\" class=\"row_heading level1 row4\" >Singed Scalpel</th>\n",
       "                        <td id=\"T_59956fb6_c585_11ea_bbc3_4ccc6a69e33brow4_col0\" class=\"data row4 col0\" >8</td>\n",
       "                        <td id=\"T_59956fb6_c585_11ea_bbc3_4ccc6a69e33brow4_col1\" class=\"data row4 col1\" >$4.35</td>\n",
       "                        <td id=\"T_59956fb6_c585_11ea_bbc3_4ccc6a69e33brow4_col2\" class=\"data row4 col2\" >$34.80</td>\n",
       "            </tr>\n",
       "    </tbody></table>"
      ],
      "text/plain": [
       "<pandas.io.formats.style.Styler at 0x1768a1a1be0>"
      ]
     },
     "execution_count": 11,
     "metadata": {},
     "output_type": "execute_result"
    }
   ],
   "source": [
    "### The only difference with this cell from the most popular items is that top5 is found with sum()\n",
    "### instead of count()\n",
    "\n",
    "# Get a groupby using Item ID and Name\n",
    "tops_g = purchase_df[['Item ID','Item Name','Price']].groupby(['Item ID','Item Name'])\n",
    "# Find the top 5 spenders after summing up all of their purchases\n",
    "top5 = tops_g.sum().nlargest(5,'Price')\n",
    "\n",
    "# Create empty dataframe using index of top 5 most profitable items\n",
    "most_pro_df = pd.DataFrame(index=top5.index)\n",
    "\n",
    "# Store item IDs of the 5 items in list for easy filtering\n",
    "items = [top5.index[x][0] for x in range(0,5)]\n",
    "# Create df of all purchases of the 5 most profitable items\n",
    "top5_df = purchase_df[['Item ID','Item Name','Price']].loc[purchase_df['Item ID'].isin(items),:]\n",
    "\n",
    "# Groupby on the top5 df to get info filtered by item\n",
    "top5_g = top5_df.groupby(['Item ID','Item Name'])\n",
    "\n",
    "# Store most profitable item purchase info in dataframe\n",
    "most_pro_df['Purchase Count'] = top5_g.count()\n",
    "most_pro_df['Item Price'] = top5_g.mean()\n",
    "most_pro_df['Total Purchase Value'] = top5_g.sum()\n",
    "\n",
    "# Display the formated version\n",
    "most_pro_df.style.format({\n",
    "                            'Item Price':'${:,.2f}'.format,\n",
    "                            'Total Purchase Value':'${:,.2f}'.format\n",
    "                            })"
   ]
  }
 ],
 "metadata": {
  "anaconda-cloud": {},
  "kernel_info": {
   "name": "python3"
  },
  "kernelspec": {
   "display_name": "Python [conda env:PythonData] *",
   "language": "python",
   "name": "conda-env-PythonData-py"
  },
  "language_info": {
   "codemirror_mode": {
    "name": "ipython",
    "version": 3
   },
   "file_extension": ".py",
   "mimetype": "text/x-python",
   "name": "python",
   "nbconvert_exporter": "python",
   "pygments_lexer": "ipython3",
   "version": "3.6.10"
  },
  "latex_envs": {
   "LaTeX_envs_menu_present": true,
   "autoclose": false,
   "autocomplete": true,
   "bibliofile": "biblio.bib",
   "cite_by": "apalike",
   "current_citInitial": 1,
   "eqLabelWithNumbers": true,
   "eqNumInitial": 1,
   "hotkeys": {
    "equation": "Ctrl-E",
    "itemize": "Ctrl-I"
   },
   "labels_anchors": false,
   "latex_user_defs": false,
   "report_style_numbering": false,
   "user_envs_cfg": false
  },
  "nteract": {
   "version": "0.2.0"
  }
 },
 "nbformat": 4,
 "nbformat_minor": 2
}
